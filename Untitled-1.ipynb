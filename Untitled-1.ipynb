{
 "cells": [
  {
   "cell_type": "code",
   "execution_count": 1,
   "metadata": {},
   "outputs": [],
   "source": [
    "import preprocess\n",
    "import naive\n",
    "import re\n",
    "import pandas as pd\n",
    "import numpy as np\n",
    "import itertools\n",
    "import matplotlib.pyplot as plt\n",
    "\n",
    "from sklearn.utils import shuffle\n",
    "from numpy.random import RandomState\n",
    "from sklearn.model_selection import train_test_split\n",
    "from sklearn.feature_extraction.text import CountVectorizer\n",
    "from sklearn.feature_extraction.text import TfidfTransformer\n",
    "from sklearn.naive_bayes import MultinomialNB\n",
    "from sklearn.ensemble import AdaBoostClassifier\n",
    "from sklearn.metrics import accuracy_score, precision_score, recall_score, f1_score, roc_auc_score\n",
    "\n",
    "from sklearn.metrics import confusion_matrix\n",
    "import seaborn as sns; sns.set()\n"
   ]
  },
  {
   "attachments": {},
   "cell_type": "markdown",
   "metadata": {},
   "source": [
    "# Preprocessing"
   ]
  },
  {
   "cell_type": "code",
   "execution_count": 2,
   "metadata": {},
   "outputs": [],
   "source": [
    "ham = preprocess.parser(\"dawcy/studencka\", 0)\n",
    "spam = preprocess.parser(\"dawcy/oferty\", 1)\n",
    "spam_domains = list(preprocess.detect_url(spam))\n",
    "merged_spam_domains = list(itertools.chain(*spam_domains))\n",
    "#spam_domains, spam_domains_count = np.unique(merged_spam_domains, return_counts=1)"
   ]
  },
  {
   "cell_type": "code",
   "execution_count": 3,
   "metadata": {},
   "outputs": [],
   "source": [
    "ham_domains = list(preprocess.detect_url(ham))\n",
    "merged_ham_domains = list(itertools.chain(*ham_domains))"
   ]
  },
  {
   "cell_type": "code",
   "execution_count": 6,
   "metadata": {},
   "outputs": [
    {
     "data": {
      "text/plain": [
       "tracking.zuwi.pl               5632\n",
       "click.mediamarkt.pl            2067\n",
       "t.email.hm.com                 1871\n",
       "system3secure.pl               1088\n",
       "ad.doubleclick.net              832\n",
       "ad.bonprixshop.eu               575\n",
       "redir.marketing.allegro.pl      532\n",
       "www.leroymerlin.pl              347\n",
       "info.diamondtrack.pl            279\n",
       "s1.newletter-leroymerlin.pl     228\n",
       "la-sender.pl                    217\n",
       "gde-default.hit.gemius.pl       160\n",
       "cdn.netsalesmedia.pl             88\n",
       "tr.la-sender.pl                  83\n",
       "phoenix-sender.pl                23\n",
       "news.send360.pl                   6\n",
       "dtype: int64"
      ]
     },
     "execution_count": 6,
     "metadata": {},
     "output_type": "execute_result"
    }
   ],
   "source": [
    "df_domains = pd.Series.value_counts(merged_spam_domains)\n",
    "df_domains"
   ]
  },
  {
   "cell_type": "code",
   "execution_count": 7,
   "metadata": {},
   "outputs": [
    {
     "data": {
      "text/plain": [
       "usosapps.prz.edu.pl                 2797\n",
       "teams.microsoft.com                 1152\n",
       "w.prz.edu.pl                         635\n",
       "dwm.prz.edu.pl                       404\n",
       "apex.oracle.com                      317\n",
       "e-learning.prz.edu.pl                290\n",
       "allegro.pl                           255\n",
       "www.facebook.com                     247\n",
       "forms.office.com                     237\n",
       "app.evenea.pl                        235\n",
       "biblio.prz.edu.pl                    216\n",
       "www.youtube.com                      191\n",
       "drive.google.com                     191\n",
       "pdymora.v.prz.edu.pl                 149\n",
       "forms.gle                            140\n",
       "hackathon.asseco.com                 140\n",
       "badanie.panelankietowy.pl            139\n",
       "app.becas-santander.com              134\n",
       "ssprz.prz.edu.pl                     132\n",
       "caseweek.iaeste.pl                   129\n",
       "przweii-my.sharepoint.com            126\n",
       "pei.prz.edu.pl                       121\n",
       "sercadlamaluszka.pl                  113\n",
       "www.mocodkrywcow.pl                  111\n",
       "womenintechsummit.pl                 109\n",
       "www.softsystem.pl                    108\n",
       "us04web.zoom.us                      104\n",
       "docs.google.com                      102\n",
       "ambasadorue.prz.edu.pl                86\n",
       "levanchotorlishvili.v.prz.edu.pl      84\n",
       "opteam.pl                             83\n",
       "tiny.pl                               70\n",
       "csa.prz.edu.pl                        66\n",
       "playstrict.com)                       65\n",
       "oficyna.prz.edu.pl                    60\n",
       "www.legiaakademicka.prz.edu.pl        58\n",
       "bolanowski.v.prz.edu.pl               51\n",
       "fb.me                                 50\n",
       "sklep.prz.edu.pl                      49\n",
       "www.basf.com                          44\n",
       "bip.prz.edu.pl                        38\n",
       "www.linkedin.com                      33\n",
       "pl.wikipedia.org                      32\n",
       "wroclawpsych.fra1.qualtrics.com       27\n",
       "www.rsi.podkarpackie.pl.              24\n",
       "phoe.co                               23\n",
       "support.google.com                    20\n",
       "pomocukrainie.prz.edu.pl              12\n",
       "mmazurek.v.prz.edu.pl                  5\n",
       "revise-prz-edu-pl.writefull.ai         4\n",
       "aklstol.pwr.edu.pl                     3\n",
       "dtype: int64"
      ]
     },
     "execution_count": 7,
     "metadata": {},
     "output_type": "execute_result"
    }
   ],
   "source": [
    "df_domains_ham = pd.Series.value_counts(merged_ham_domains)\n",
    "df_domains_ham"
   ]
  },
  {
   "cell_type": "code",
   "execution_count": 3,
   "metadata": {},
   "outputs": [
    {
     "name": "stdout",
     "output_type": "stream",
     "text": [
      "good stuff count:  226\n",
      "spam count:  189\n"
     ]
    },
    {
     "data": {
      "image/png": "[encoded data removed]",
      "text/plain": [
       "<Figure size 640x480 with 1 Axes>"
      ]
     },
     "metadata": {},
     "output_type": "display_data"
    },
    {
     "name": "stdout",
     "output_type": "stream",
     "text": [
      "     0                                                  1\n",
      "0    0   Szanowni Państwo, poniżej przesyłam link do z...\n",
      "1    0   Szanowni Państwo, Zostałam poproszona o udost...\n",
      "2    0   Szczegółowe informacje dotyczące oferowanych ...\n",
      "3    0   Szanowni Pa=C5=84stwo,  w zwi=C4=85zku z tym,...\n",
      "4    0   Szanowni Państwo, podaje link do środowego wy...\n",
      "..  ..                                                ...\n",
      "221  0   Szanowni studenci, dokonałem wpisu ocen z egz...\n",
      "222  0   혻 Szanowni Pa흦stwo. Spotykamy si휌 w poniedzia...\n",
      "223  0   Szanowni Państwo, zwracam się do Państwa w im...\n",
      "224  0  Hello arkadiusz mikula,  Your workspace reques...\n",
      "225  0   Szanowni Państwo. W związku ze wznowieniem dz...\n",
      "\n",
      "[226 rows x 2 columns]\n"
     ]
    },
    {
     "data": {
      "text/html": [
       "<div>\n",
       "<style scoped>\n",
       "    .dataframe tbody tr th:only-of-type {\n",
       "        vertical-align: middle;\n",
       "    }\n",
       "\n",
       "    .dataframe tbody tr th {\n",
       "        vertical-align: top;\n",
       "    }\n",
       "\n",
       "    .dataframe thead th {\n",
       "        text-align: right;\n",
       "    }\n",
       "</style>\n",
       "<table border=\"1\" class=\"dataframe\">\n",
       "  <thead>\n",
       "    <tr style=\"text-align: right;\">\n",
       "      <th></th>\n",
       "      <th>0</th>\n",
       "      <th>1</th>\n",
       "    </tr>\n",
       "  </thead>\n",
       "  <tbody>\n",
       "    <tr>\n",
       "      <th>408</th>\n",
       "      <td>1</td>\n",
       "      <td>&lt;!--sare   sare--&gt; Jeżeli poniższy newslette...</td>\n",
       "    </tr>\n",
       "    <tr>\n",
       "      <th>214</th>\n",
       "      <td>0</td>\n",
       "      <td>Szanowni Państwo, jutro mogę się spóźnić ok. ...</td>\n",
       "    </tr>\n",
       "    <tr>\n",
       "      <th>83</th>\n",
       "      <td>0</td>\n",
       "      <td>Szanowni Państwo,  wychodząc naprzeciw oczeki...</td>\n",
       "    </tr>\n",
       "    <tr>\n",
       "      <th>78</th>\n",
       "      <td>0</td>\n",
       "      <td>Szanowni Państwo. Ze względu na me pilne spra...</td>\n",
       "    </tr>\n",
       "    <tr>\n",
       "      <th>272</th>\n",
       "      <td>1</td>\n",
       "      <td>Open the email in browser on following link   ...</td>\n",
       "    </tr>\n",
       "    <tr>\n",
       "      <th>...</th>\n",
       "      <td>...</td>\n",
       "      <td>...</td>\n",
       "    </tr>\n",
       "    <tr>\n",
       "      <th>108</th>\n",
       "      <td>0</td>\n",
       "      <td>MWdI - kolokwium I</td>\n",
       "    </tr>\n",
       "    <tr>\n",
       "      <th>267</th>\n",
       "      <td>1</td>\n",
       "      <td>W celu obejrzenia tej wiadomośći w wersji graf...</td>\n",
       "    </tr>\n",
       "    <tr>\n",
       "      <th>334</th>\n",
       "      <td>1</td>\n",
       "      <td>Sprawdź, kto pobierał informacje na Twój temat...</td>\n",
       "    </tr>\n",
       "    <tr>\n",
       "      <th>387</th>\n",
       "      <td>1</td>\n",
       "      <td>C4                                            ...</td>\n",
       "    </tr>\n",
       "    <tr>\n",
       "      <th>352</th>\n",
       "      <td>1</td>\n",
       "      <td>...</td>\n",
       "    </tr>\n",
       "  </tbody>\n",
       "</table>\n",
       "<p>415 rows × 2 columns</p>\n",
       "</div>"
      ],
      "text/plain": [
       "     0                                                  1\n",
       "408  1    <!--sare   sare--> Jeżeli poniższy newslette...\n",
       "214  0   Szanowni Państwo, jutro mogę się spóźnić ok. ...\n",
       "83   0   Szanowni Państwo,  wychodząc naprzeciw oczeki...\n",
       "78   0   Szanowni Państwo. Ze względu na me pilne spra...\n",
       "272  1  Open the email in browser on following link   ...\n",
       "..  ..                                                ...\n",
       "108  0                                MWdI - kolokwium I \n",
       "267  1  W celu obejrzenia tej wiadomośći w wersji graf...\n",
       "334  1  Sprawdź, kto pobierał informacje na Twój temat...\n",
       "387  1  C4                                            ...\n",
       "352  1                                                ...\n",
       "\n",
       "[415 rows x 2 columns]"
      ]
     },
     "execution_count": 3,
     "metadata": {},
     "output_type": "execute_result"
    }
   ],
   "source": [
    "print(\"good stuff count:  {}\".format(len(ham)))\n",
    "print(\"spam count:  {}\".format(len(spam)))\n",
    "\n",
    "fig, ax = plt.subplots()\n",
    "ax.bar('ham', len(ham), color='green')\n",
    "ax.bar('spam', len(spam), color='red')\n",
    "ax.set_title('Mail count')\n",
    "\n",
    "plt.show()\n",
    "\n",
    "df1 = pd.DataFrame(ham)\n",
    "df2 = pd.DataFrame(spam)\n",
    "\n",
    "print(df1)\n",
    "\n",
    "df = shuffle(pd.concat([df1, df2], ignore_index=1), random_state=161882)\n",
    "#df = df.transpose()\n",
    "#df = df[df.columns[1:]].apply(lambda x: ','.join(x.dropna().astype(str)), axis=1)\n",
    "#df = df.str.split(',')\n",
    "df"
   ]
  },
  {
   "attachments": {},
   "cell_type": "markdown",
   "metadata": {},
   "source": [
    "# Budowa słownika"
   ]
  },
  {
   "cell_type": "code",
   "execution_count": 4,
   "metadata": {},
   "outputs": [
    {
     "data": {
      "text/html": [
       "<div>\n",
       "<style scoped>\n",
       "    .dataframe tbody tr th:only-of-type {\n",
       "        vertical-align: middle;\n",
       "    }\n",
       "\n",
       "    .dataframe tbody tr th {\n",
       "        vertical-align: top;\n",
       "    }\n",
       "\n",
       "    .dataframe thead th {\n",
       "        text-align: right;\n",
       "    }\n",
       "</style>\n",
       "<table border=\"1\" class=\"dataframe\">\n",
       "  <thead>\n",
       "    <tr style=\"text-align: right;\">\n",
       "      <th></th>\n",
       "      <th>0</th>\n",
       "    </tr>\n",
       "  </thead>\n",
       "  <tbody>\n",
       "    <tr>\n",
       "      <th>0</th>\n",
       "      <td>about</td>\n",
       "    </tr>\n",
       "    <tr>\n",
       "      <th>1</th>\n",
       "      <td>aby</td>\n",
       "    </tr>\n",
       "    <tr>\n",
       "      <th>2</th>\n",
       "      <td>ac</td>\n",
       "    </tr>\n",
       "    <tr>\n",
       "      <th>3</th>\n",
       "      <td>academica</td>\n",
       "    </tr>\n",
       "    <tr>\n",
       "      <th>4</th>\n",
       "      <td>act</td>\n",
       "    </tr>\n",
       "    <tr>\n",
       "      <th>...</th>\n",
       "      <td>...</td>\n",
       "    </tr>\n",
       "    <tr>\n",
       "      <th>1514</th>\n",
       "      <td>zwracamy</td>\n",
       "    </tr>\n",
       "    <tr>\n",
       "      <th>1515</th>\n",
       "      <td>zwrot</td>\n",
       "    </tr>\n",
       "    <tr>\n",
       "      <th>1516</th>\n",
       "      <td>zwrotu</td>\n",
       "    </tr>\n",
       "    <tr>\n",
       "      <th>1517</th>\n",
       "      <td>zwykle</td>\n",
       "    </tr>\n",
       "    <tr>\n",
       "      <th>1518</th>\n",
       "      <td>zyskaj</td>\n",
       "    </tr>\n",
       "  </tbody>\n",
       "</table>\n",
       "<p>1519 rows × 1 columns</p>\n",
       "</div>"
      ],
      "text/plain": [
       "              0\n",
       "0         about\n",
       "1           aby\n",
       "2            ac\n",
       "3     academica\n",
       "4           act\n",
       "...         ...\n",
       "1514   zwracamy\n",
       "1515      zwrot\n",
       "1516     zwrotu\n",
       "1517     zwykle\n",
       "1518     zyskaj\n",
       "\n",
       "[1519 rows x 1 columns]"
      ]
     },
     "execution_count": 4,
     "metadata": {},
     "output_type": "execute_result"
    }
   ],
   "source": [
    "#vectorize = CountVectorizer(analyzer='word', ngram_range=(2, 2))\n",
    "\n",
    "def drop_numbers(text):\n",
    "    text = text.lower()\n",
    "    text = re.sub(r'\\d+', '', text)\n",
    "    return text\n",
    "\n",
    "vectorize_og = CountVectorizer()\n",
    "vectorize = CountVectorizer(analyzer='word', preprocessor=drop_numbers, min_df=2, token_pattern=r\"(?u)\\b[a-zA-Z]{2,20}\\b\")\n",
    "\n",
    "X = df[1].values\n",
    "Y = df[0].values\n",
    "\n",
    "X_train, X_test, y_train, y_test = train_test_split(X, Y, test_size=0.25)\n",
    "\n",
    "X_train_OG = vectorize_og.fit_transform(X_train)\n",
    "X_train_CV = vectorize.fit_transform(X_train)\n",
    "\n",
    "# slownik\n",
    "features = vectorize.get_feature_names_out()\n",
    "#features = np.array([ele for ele in features if len(ele)<=10 and not ele.isdigit() and bool(re.search(r'\\d', ele)) == 0])\n",
    "df_features = pd.DataFrame(features)\n",
    "\n",
    "df_features"
   ]
  },
  {
   "cell_type": "code",
   "execution_count": 18,
   "metadata": {},
   "outputs": [
    {
     "name": "stdout",
     "output_type": "stream",
     "text": [
      "Accuracy:  0.9903846153846154\n",
      "Precision:  0.9736842105263158\n",
      "Recall:  1.0\n",
      "F1-score:  0.9866666666666666\n",
      "Accuracy :  0.9903846153846154\n"
     ]
    }
   ],
   "source": [
    "from sklearn.feature_extraction.text import TfidfVectorizer\n",
    "\n",
    "# Create an instance of the TfidfVectorizer\n",
    "vectorizer_tf = TfidfVectorizer(analyzer='word', preprocessor=drop_numbers, min_df=2, token_pattern=r\"(?u)\\b[a-zA-Z]{2,20}\\b\")\n",
    "X_train_TF = vectorizer_tf.fit_transform(X_train)\n",
    "\n",
    "NB = MultinomialNB()\n",
    "NB.fit(X_train_TF,y_train)\n",
    "\n",
    "X_test_TF = vectorize.transform(X_test)\n",
    "y_predict = NB.predict(X_test_TF)\n",
    "score = accuracy_score(y_test,y_predict)\n",
    "\n",
    "precision = precision_score(y_test, y_predict)\n",
    "recall = recall_score(y_test, y_predict)\n",
    "f1 = f1_score(y_test, y_predict)\n",
    "\n",
    "print(\"Accuracy: \", score)\n",
    "print(\"Precision: \", precision)\n",
    "print(\"Recall: \", recall)\n",
    "print(\"F1-score: \", f1)\n",
    "\n",
    "print(\"Accuracy : \", score)"
   ]
  },
  {
   "attachments": {},
   "cell_type": "markdown",
   "metadata": {},
   "source": [
    "# Wartośći tfIDF"
   ]
  },
  {
   "cell_type": "code",
   "execution_count": 6,
   "metadata": {},
   "outputs": [
    {
     "data": {
      "text/html": [
       "<style>#sk-container-id-1 {color: black;background-color: white;}#sk-container-id-1 pre{padding: 0;}#sk-container-id-1 div.sk-toggleable {background-color: white;}#sk-container-id-1 label.sk-toggleable__label {cursor: pointer;display: block;width: 100%;margin-bottom: 0;padding: 0.3em;box-sizing: border-box;text-align: center;}#sk-container-id-1 label.sk-toggleable__label-arrow:before {content: \"▸\";float: left;margin-right: 0.25em;color: #696969;}#sk-container-id-1 label.sk-toggleable__label-arrow:hover:before {color: black;}#sk-container-id-1 div.sk-estimator:hover label.sk-toggleable__label-arrow:before {color: black;}#sk-container-id-1 div.sk-toggleable__content {max-height: 0;max-width: 0;overflow: hidden;text-align: left;background-color: #f0f8ff;}#sk-container-id-1 div.sk-toggleable__content pre {margin: 0.2em;color: black;border-radius: 0.25em;background-color: #f0f8ff;}#sk-container-id-1 input.sk-toggleable__control:checked~div.sk-toggleable__content {max-height: 200px;max-width: 100%;overflow: auto;}#sk-container-id-1 input.sk-toggleable__control:checked~label.sk-toggleable__label-arrow:before {content: \"▾\";}#sk-container-id-1 div.sk-estimator input.sk-toggleable__control:checked~label.sk-toggleable__label {background-color: #d4ebff;}#sk-container-id-1 div.sk-label input.sk-toggleable__control:checked~label.sk-toggleable__label {background-color: #d4ebff;}#sk-container-id-1 input.sk-hidden--visually {border: 0;clip: rect(1px 1px 1px 1px);clip: rect(1px, 1px, 1px, 1px);height: 1px;margin: -1px;overflow: hidden;padding: 0;position: absolute;width: 1px;}#sk-container-id-1 div.sk-estimator {font-family: monospace;background-color: #f0f8ff;border: 1px dotted black;border-radius: 0.25em;box-sizing: border-box;margin-bottom: 0.5em;}#sk-container-id-1 div.sk-estimator:hover {background-color: #d4ebff;}#sk-container-id-1 div.sk-parallel-item::after {content: \"\";width: 100%;border-bottom: 1px solid gray;flex-grow: 1;}#sk-container-id-1 div.sk-label:hover label.sk-toggleable__label {background-color: #d4ebff;}#sk-container-id-1 div.sk-serial::before {content: \"\";position: absolute;border-left: 1px solid gray;box-sizing: border-box;top: 0;bottom: 0;left: 50%;z-index: 0;}#sk-container-id-1 div.sk-serial {display: flex;flex-direction: column;align-items: center;background-color: white;padding-right: 0.2em;padding-left: 0.2em;position: relative;}#sk-container-id-1 div.sk-item {position: relative;z-index: 1;}#sk-container-id-1 div.sk-parallel {display: flex;align-items: stretch;justify-content: center;background-color: white;position: relative;}#sk-container-id-1 div.sk-item::before, #sk-container-id-1 div.sk-parallel-item::before {content: \"\";position: absolute;border-left: 1px solid gray;box-sizing: border-box;top: 0;bottom: 0;left: 50%;z-index: -1;}#sk-container-id-1 div.sk-parallel-item {display: flex;flex-direction: column;z-index: 1;position: relative;background-color: white;}#sk-container-id-1 div.sk-parallel-item:first-child::after {align-self: flex-end;width: 50%;}#sk-container-id-1 div.sk-parallel-item:last-child::after {align-self: flex-start;width: 50%;}#sk-container-id-1 div.sk-parallel-item:only-child::after {width: 0;}#sk-container-id-1 div.sk-dashed-wrapped {border: 1px dashed gray;margin: 0 0.4em 0.5em 0.4em;box-sizing: border-box;padding-bottom: 0.4em;background-color: white;}#sk-container-id-1 div.sk-label label {font-family: monospace;font-weight: bold;display: inline-block;line-height: 1.2em;}#sk-container-id-1 div.sk-label-container {text-align: center;}#sk-container-id-1 div.sk-container {/* jupyter's `normalize.less` sets `[hidden] { display: none; }` but bootstrap.min.css set `[hidden] { display: none !important; }` so we also need the `!important` here to be able to override the default hidden behavior on the sphinx rendered scikit-learn.org. See: https://github.com/scikit-learn/scikit-learn/issues/21755 */display: inline-block !important;position: relative;}#sk-container-id-1 div.sk-text-repr-fallback {display: none;}</style><div id=\"sk-container-id-1\" class=\"sk-top-container\"><div class=\"sk-text-repr-fallback\"><pre>TfidfTransformer()</pre><b>In a Jupyter environment, please rerun this cell to show the HTML representation or trust the notebook. <br />On GitHub, the HTML representation is unable to render, please try loading this page with nbviewer.org.</b></div><div class=\"sk-container\" hidden><div class=\"sk-item\"><div class=\"sk-estimator sk-toggleable\"><input class=\"sk-toggleable__control sk-hidden--visually\" id=\"sk-estimator-id-1\" type=\"checkbox\" checked><label for=\"sk-estimator-id-1\" class=\"sk-toggleable__label sk-toggleable__label-arrow\">TfidfTransformer</label><div class=\"sk-toggleable__content\"><pre>TfidfTransformer()</pre></div></div></div></div></div>"
      ],
      "text/plain": [
       "TfidfTransformer()"
      ]
     },
     "execution_count": 6,
     "metadata": {},
     "output_type": "execute_result"
    }
   ],
   "source": [
    "tfidf_transformer=TfidfTransformer(smooth_idf=True,use_idf=True) \n",
    "tfidf_transformer.fit(X_train_CV)"
   ]
  },
  {
   "cell_type": "code",
   "execution_count": 9,
   "metadata": {},
   "outputs": [
    {
     "data": {
      "text/html": [
       "<div>\n",
       "<style scoped>\n",
       "    .dataframe tbody tr th:only-of-type {\n",
       "        vertical-align: middle;\n",
       "    }\n",
       "\n",
       "    .dataframe tbody tr th {\n",
       "        vertical-align: top;\n",
       "    }\n",
       "\n",
       "    .dataframe thead th {\n",
       "        text-align: right;\n",
       "    }\n",
       "</style>\n",
       "<table border=\"1\" class=\"dataframe\">\n",
       "  <thead>\n",
       "    <tr style=\"text-align: right;\">\n",
       "      <th></th>\n",
       "      <th>idf_weights</th>\n",
       "    </tr>\n",
       "  </thead>\n",
       "  <tbody>\n",
       "    <tr>\n",
       "      <th>przez</th>\n",
       "      <td>1.386417</td>\n",
       "    </tr>\n",
       "    <tr>\n",
       "      <th>na</th>\n",
       "      <td>1.424883</td>\n",
       "    </tr>\n",
       "    <tr>\n",
       "      <th>do</th>\n",
       "      <td>1.464889</td>\n",
       "    </tr>\n",
       "    <tr>\n",
       "      <th>tej</th>\n",
       "      <td>1.631015</td>\n",
       "    </tr>\n",
       "    <tr>\n",
       "      <th>system</th>\n",
       "      <td>1.732368</td>\n",
       "    </tr>\n",
       "    <tr>\n",
       "      <th>...</th>\n",
       "      <td>...</td>\n",
       "    </tr>\n",
       "    <tr>\n",
       "      <th>poza</th>\n",
       "      <td>5.644391</td>\n",
       "    </tr>\n",
       "    <tr>\n",
       "      <th>darmo</th>\n",
       "      <td>5.644391</td>\n",
       "    </tr>\n",
       "    <tr>\n",
       "      <th>pozdrowieniami</th>\n",
       "      <td>5.644391</td>\n",
       "    </tr>\n",
       "    <tr>\n",
       "      <th>damian</th>\n",
       "      <td>5.644391</td>\n",
       "    </tr>\n",
       "    <tr>\n",
       "      <th>about</th>\n",
       "      <td>5.644391</td>\n",
       "    </tr>\n",
       "  </tbody>\n",
       "</table>\n",
       "<p>1509 rows × 1 columns</p>\n",
       "</div>"
      ],
      "text/plain": [
       "                idf_weights\n",
       "przez              1.386417\n",
       "na                 1.424883\n",
       "do                 1.464889\n",
       "tej                1.631015\n",
       "system             1.732368\n",
       "...                     ...\n",
       "poza               5.644391\n",
       "darmo              5.644391\n",
       "pozdrowieniami     5.644391\n",
       "damian             5.644391\n",
       "about              5.644391\n",
       "\n",
       "[1509 rows x 1 columns]"
      ]
     },
     "execution_count": 9,
     "metadata": {},
     "output_type": "execute_result"
    }
   ],
   "source": [
    "# print idf values \n",
    "df_idf = pd.DataFrame(tfidf_transformer.idf_, index=vectorize.get_feature_names_out(),columns=[\"idf_weights\"]) \n",
    "# sort ascending \n",
    "df_idf.sort_values(by=['idf_weights'])"
   ]
  },
  {
   "cell_type": "code",
   "execution_count": 10,
   "metadata": {},
   "outputs": [
    {
     "data": {
      "text/html": [
       "<div>\n",
       "<style scoped>\n",
       "    .dataframe tbody tr th:only-of-type {\n",
       "        vertical-align: middle;\n",
       "    }\n",
       "\n",
       "    .dataframe tbody tr th {\n",
       "        vertical-align: top;\n",
       "    }\n",
       "\n",
       "    .dataframe thead th {\n",
       "        text-align: right;\n",
       "    }\n",
       "</style>\n",
       "<table border=\"1\" class=\"dataframe\">\n",
       "  <thead>\n",
       "    <tr style=\"text-align: right;\">\n",
       "      <th></th>\n",
       "      <th>tfidf</th>\n",
       "    </tr>\n",
       "  </thead>\n",
       "  <tbody>\n",
       "    <tr>\n",
       "      <th>lot</th>\n",
       "      <td>0.395022</td>\n",
       "    </tr>\n",
       "    <tr>\n",
       "      <th>lotnicze</th>\n",
       "      <td>0.263348</td>\n",
       "    </tr>\n",
       "    <tr>\n",
       "      <th>polskie</th>\n",
       "      <td>0.257244</td>\n",
       "    </tr>\n",
       "    <tr>\n",
       "      <th>linie</th>\n",
       "      <td>0.257244</td>\n",
       "    </tr>\n",
       "    <tr>\n",
       "      <th>rejestru</th>\n",
       "      <td>0.236160</td>\n",
       "    </tr>\n",
       "    <tr>\n",
       "      <th>...</th>\n",
       "      <td>...</td>\n",
       "    </tr>\n",
       "    <tr>\n",
       "      <th>ku</th>\n",
       "      <td>0.000000</td>\n",
       "    </tr>\n",
       "    <tr>\n",
       "      <th>kto</th>\n",
       "      <td>0.000000</td>\n",
       "    </tr>\n",
       "    <tr>\n",
       "      <th>kt</th>\n",
       "      <td>0.000000</td>\n",
       "    </tr>\n",
       "    <tr>\n",
       "      <th>kszta</th>\n",
       "      <td>0.000000</td>\n",
       "    </tr>\n",
       "    <tr>\n",
       "      <th>zyskaj</th>\n",
       "      <td>0.000000</td>\n",
       "    </tr>\n",
       "  </tbody>\n",
       "</table>\n",
       "<p>1509 rows × 1 columns</p>\n",
       "</div>"
      ],
      "text/plain": [
       "             tfidf\n",
       "lot       0.395022\n",
       "lotnicze  0.263348\n",
       "polskie   0.257244\n",
       "linie     0.257244\n",
       "rejestru  0.236160\n",
       "...            ...\n",
       "ku        0.000000\n",
       "kto       0.000000\n",
       "kt        0.000000\n",
       "kszta     0.000000\n",
       "zyskaj    0.000000\n",
       "\n",
       "[1509 rows x 1 columns]"
      ]
     },
     "execution_count": 10,
     "metadata": {},
     "output_type": "execute_result"
    }
   ],
   "source": [
    "# count matrix \n",
    "tc_vector=vectorize.transform(X_train) \n",
    "# tf-idf scores \n",
    "tf_idf_vector=tfidf_transformer.transform(tc_vector)\n",
    "\n",
    "tf_fnames = vectorize.get_feature_names_out() \n",
    "#get tfidf vector for first document \n",
    "first_document_vector=tf_idf_vector[0] \n",
    "#print the scores \n",
    "df_tfidf = pd.DataFrame(first_document_vector.T.todense(), index=tf_fnames, columns=[\"tfidf\"]) \n",
    "df_tfidf.sort_values(by=[\"tfidf\"],ascending=False)"
   ]
  },
  {
   "attachments": {},
   "cell_type": "markdown",
   "metadata": {},
   "source": [
    "# Inicjalizacja modelu i ewaluacja"
   ]
  },
  {
   "cell_type": "code",
   "execution_count": 5,
   "metadata": {},
   "outputs": [
    {
     "data": {
      "image/png": "[encoded data removed]",
      "text/plain": [
       "<Figure size 1200x600 with 2 Axes>"
      ]
     },
     "metadata": {},
     "output_type": "display_data"
    }
   ],
   "source": [
    "train_count = pd.Series(data=y_train).value_counts()\n",
    "test_count = pd.Series(data=y_test).value_counts()\n",
    "\n",
    "x = ['ham', 'spam']\n",
    "colors = ['green', 'red']\n",
    "\n",
    "fig, (ax1, ax2) = plt.subplots(ncols=2, figsize=(12, 6), sharey=True)\n",
    "ax1.bar(x, train_count.values, color=colors)\n",
    "ax1.set_title('Train')\n",
    "\n",
    "ax2.bar(x, test_count.values, color=colors)\n",
    "ax2.set_title('Test')\n",
    "\n",
    "plt.show()"
   ]
  },
  {
   "cell_type": "code",
   "execution_count": 6,
   "metadata": {},
   "outputs": [
    {
     "name": "stdout",
     "output_type": "stream",
     "text": [
      "Accuracy:  0.9807692307692307\n",
      "Precision:  1.0\n",
      "Recall:  0.9555555555555556\n",
      "F1-score:  0.9772727272727273\n",
      "Accuracy :  0.9807692307692307\n"
     ]
    }
   ],
   "source": [
    "NB = MultinomialNB()\n",
    "NB.fit(X_train_CV,y_train)\n",
    "\n",
    "X_test_CV = vectorize.transform(X_test)\n",
    "y_predict = NB.predict(X_test_CV)\n",
    "score = accuracy_score(y_test,y_predict)\n",
    "\n",
    "precision = precision_score(y_test, y_predict)\n",
    "recall = recall_score(y_test, y_predict)\n",
    "f1 = f1_score(y_test, y_predict)\n",
    "\n",
    "print(\"Accuracy: \", score)\n",
    "print(\"Precision: \", precision)\n",
    "print(\"Recall: \", recall)\n",
    "print(\"F1-score: \", f1)\n",
    "\n",
    "print(\"Accuracy : \", score)"
   ]
  },
  {
   "cell_type": "code",
   "execution_count": 15,
   "metadata": {},
   "outputs": [
    {
     "data": {
      "image/png": "[encoded data removed]",
      "text/plain": [
       "<Figure size 640x480 with 1 Axes>"
      ]
     },
     "metadata": {},
     "output_type": "display_data"
    }
   ],
   "source": [
    "roc_auc = roc_auc_score(y_test, y_predict)\n",
    "\n",
    "\n",
    "plt.plot([0, 1], [0, 1], 'k--')\n",
    "plt.plot(fpr, tpr, label='AUC = {:.3f}'.format(roc_auc))\n",
    "plt.xlabel('False Positive Rate')\n",
    "plt.ylabel('True Positive Rate')\n",
    "plt.title('ROC AUC Curve')\n",
    "plt.legend(loc='best')\n",
    "plt.show()"
   ]
  },
  {
   "cell_type": "code",
   "execution_count": 11,
   "metadata": {},
   "outputs": [
    {
     "name": "stdout",
     "output_type": "stream",
     "text": [
      "Accuracy:  0.4423076923076923\n",
      "Precision:  0.42574257425742573\n",
      "Recall:  1.0\n",
      "F1-score:  0.5972222222222222\n",
      "Accuracy: 0.44\n"
     ]
    }
   ],
   "source": [
    "# Create an instance of the class\n",
    "mnb = naive.MultinomialNaiveBayes()\n",
    "\n",
    "# Fit the model to the training data\n",
    "mnb.fit(X_train, y_train)\n",
    "\n",
    "# Make predictions on the test data\n",
    "y_pred = mnb.predict(X_test)\n",
    "\n",
    "# Evaluation metrics\n",
    "acc = accuracy_score(y_test, y_pred)\n",
    "prec = precision_score(y_test, y_pred)\n",
    "rec = recall_score(y_test, y_pred)\n",
    "f1 = f1_score(y_test, y_pred)\n",
    "\n",
    "print(\"Accuracy: \", acc)\n",
    "print(\"Precision: \", prec)\n",
    "print(\"Recall: \", rec)\n",
    "print(\"F1-score: \", f1)\n",
    "\n",
    "accuracy = (y_pred == y_test).mean()\n",
    "print(f'Accuracy: {accuracy:.2f}')"
   ]
  },
  {
   "cell_type": "code",
   "execution_count": 89,
   "metadata": {},
   "outputs": [
    {
     "name": "stdout",
     "output_type": "stream",
     "text": [
      "Accuracy:  98.07692307692307\n",
      "Precision:  100.0\n",
      "Recall:  95.55555555555556\n",
      "F1-score:  97.72727272727273\n",
      "Accuracy :  98.07692307692307\n"
     ]
    }
   ],
   "source": [
    "NB = MultinomialNB()\n",
    "NB.fit(X_train_OG,y_train)\n",
    "\n",
    "X_test_OG = vectorize_og.transform(X_test)\n",
    "y_predict_OG = NB.predict(X_test_OG)\n",
    "score = accuracy_score(y_test,y_predict_OG)*100\n",
    "\n",
    "precision = precision_score(y_test, y_predict_OG)*100\n",
    "recall = recall_score(y_test, y_predict_OG)*100\n",
    "f1 = f1_score(y_test, y_predict_OG)*100\n",
    "\n",
    "print(\"Accuracy: \", score)\n",
    "print(\"Precision: \", precision)\n",
    "print(\"Recall: \", recall)\n",
    "print(\"F1-score: \", f1)\n",
    "\n",
    "print(\"Accuracy : \", score)"
   ]
  },
  {
   "cell_type": "code",
   "execution_count": 93,
   "metadata": {},
   "outputs": [
    {
     "name": "stdout",
     "output_type": "stream",
     "text": [
      "Accuracy:  0.9615384615384616\n",
      "Precision:  0.9183673469387755\n",
      "Recall:  1.0\n",
      "F1-score:  0.9574468085106383\n",
      "Accuracy: 0.96\n"
     ]
    },
    {
     "name": "stderr",
     "output_type": "stream",
     "text": [
      "/usr/lib/python3.10/site-packages/sklearn/ensemble/_base.py:166: FutureWarning: `base_estimator` was renamed to `estimator` in version 1.2 and will be removed in 1.4.\n",
      "  warnings.warn(\n"
     ]
    }
   ],
   "source": [
    "# Initialize the AdaBoost Classifier with the Naive Bayes model as the base estimator\n",
    "adb = AdaBoostClassifier(base_estimator=NB)\n",
    "\n",
    "# Fit the classifier to the training data\n",
    "adb.fit(X_train_OG, y_train)\n",
    "\n",
    "# Make predictions on the test data\n",
    "y_predict_ada = adb.predict(X_test_OG)\n",
    "\n",
    "# Evaluation metrics\n",
    "acc = accuracy_score(y_test, y_predict_ada)\n",
    "prec = precision_score(y_test, y_predict_ada)\n",
    "rec = recall_score(y_test, y_predict_ada)\n",
    "f1 = f1_score(y_test, y_predict_ada)\n",
    "\n",
    "print(\"Accuracy: \", acc)\n",
    "print(\"Precision: \", prec)\n",
    "print(\"Recall: \", rec)\n",
    "print(\"F1-score: \", f1)\n",
    "\n",
    "accuracy = (y_predict_ada == y_test).mean()\n",
    "print(f'Accuracy: {accuracy:.2f}')"
   ]
  },
  {
   "cell_type": "code",
   "execution_count": 96,
   "metadata": {},
   "outputs": [
    {
     "name": "stdout",
     "output_type": "stream",
     "text": [
      "5654\n"
     ]
    }
   ],
   "source": [
    "list_arr = X_train.tolist()\n",
    "vocab = list(set([word for email in list_arr for word in email.split()]))\n",
    "clean_vocab = [x for x in vocab if len(x)<=15 and x.isalpha()]\n",
    "vocab_final = clean_vocab\n",
    "print(len(vocab_final))"
   ]
  },
  {
   "cell_type": "code",
   "execution_count": 107,
   "metadata": {},
   "outputs": [
    {
     "data": {
      "image/png": "[encoded data removed]",
      "text/plain": [
       "<Figure size 640x480 with 1 Axes>"
      ]
     },
     "metadata": {},
     "output_type": "display_data"
    }
   ],
   "source": [
    "confusion_matrix(y_test, y_pred)\n",
    "\n",
    "sns.heatmap(confusion_matrix(y_test, y_predict).T, square=True, annot=True, fmt='d', cbar=False)\n",
    "plt.xlabel('true label')\n",
    "plt.ylabel('predicted label');"
   ]
  },
  {
   "cell_type": "code",
   "execution_count": 7,
   "metadata": {},
   "outputs": [],
   "source": [
    "def eval(msg: str) -> str:\n",
    "    msg_input = vectorize.transform([msg])\n",
    "    print(msg_input)\n",
    "    predict = NB.predict(msg_input)\n",
    "    print(predict)\n",
    "    print('Content: ', msg)\n",
    "    print('--------------------------') \n",
    "\n",
    "    if predict[0] == 0:\n",
    "        print('good')\n",
    "    else:\n",
    "        print('spam')\n",
    "\n",
    "    print('Probability: ', NB.predict_proba(msg_input))"
   ]
  },
  {
   "cell_type": "code",
   "execution_count": 164,
   "metadata": {},
   "outputs": [],
   "source": [
    "text1 = 'czy matematyka jest powiązana z nauką sprawozdanie'\n",
    "text2 = 'szanowny panie profesorze przesyłam sprawozdanie'\n",
    "text3 = 'darmowy odkurzacz'\n",
    "text4 = 'darmowy kurs japońskiego'\n",
    "text5 = 'kartofle na promocji kup teraz'"
   ]
  },
  {
   "cell_type": "code",
   "execution_count": 158,
   "metadata": {},
   "outputs": [
    {
     "name": "stdout",
     "output_type": "stream",
     "text": [
      "  (0, 1248)\t1\n",
      "[1]\n",
      "Content:  odkurzacz w promocyjnej cenie kup teraz\n",
      "--------------------------\n",
      "spam\n",
      "Probability:  [[0.4161232 0.5838768]]\n"
     ]
    }
   ],
   "source": [
    "eval(text3)"
   ]
  },
  {
   "cell_type": "code",
   "execution_count": 150,
   "metadata": {},
   "outputs": [
    {
     "name": "stdout",
     "output_type": "stream",
     "text": [
      "  (0, 176)\t1\n",
      "  (0, 415)\t1\n",
      "[0]\n",
      "Content:  czy matematyka jest powiązana z nauką\n",
      "--------------------------\n",
      "good\n",
      "Probability:  [[0.62094408 0.37905592]]\n"
     ]
    }
   ],
   "source": [
    "eval('czy matematyka jest powiązana z nauką')"
   ]
  },
  {
   "cell_type": "code",
   "execution_count": 156,
   "metadata": {},
   "outputs": [
    {
     "name": "stdout",
     "output_type": "stream",
     "text": [
      "  (0, 652)\t1\n",
      "  (0, 936)\t1\n",
      "  (0, 1248)\t1\n",
      "[1]\n",
      "Content:  kartofle na promocji kup teraz\n",
      "--------------------------\n",
      "spam\n",
      "Probability:  [[0.13656959 0.86343041]]\n"
     ]
    }
   ],
   "source": [
    "eval('kartofle na promocji kup teraz')"
   ]
  },
  {
   "cell_type": "code",
   "execution_count": 142,
   "metadata": {},
   "outputs": [],
   "source": [
    "def eval_sinwords(msg: str) -> str:\n",
    "    msg_input = vectorize.transform([msg])\n",
    "    predict = NB.predict(msg_input)\n",
    "\n",
    "    return NB.predict_proba(msg_input)"
   ]
  },
  {
   "cell_type": "code",
   "execution_count": 165,
   "metadata": {},
   "outputs": [
    {
     "name": "stdout",
     "output_type": "stream",
     "text": [
      "Prob:  kartofle [[0.53697749 0.46302251]]\n",
      "Prob:  na [[0.55683124 0.44316876]]\n",
      "Prob:  promocji [[0.19196056 0.80803944]]\n",
      "Prob:  kup [[0.53697749 0.46302251]]\n",
      "Prob:  teraz [[0.4161232 0.5838768]]\n"
     ]
    }
   ],
   "source": [
    "for i in text5.split():\n",
    "    print('Prob: ', i, eval_sinwords(i))"
   ]
  },
  {
   "cell_type": "code",
   "execution_count": 149,
   "metadata": {},
   "outputs": [
    {
     "name": "stdout",
     "output_type": "stream",
     "text": [
      "nie spam | czy 0.0018501387604070326\n",
      "spam | czy 0.0013171511901401822\n",
      "nie spam | jest 0.008325624421831644\n",
      "spam | jest 0.008279236052309718\n",
      "nie spam | sprawozdanie 0.0003469010175763186\n",
      "spam | sprawozdanie 9.408222786715585e-05\n"
     ]
    }
   ],
   "source": [
    "likelihoods = NB.feature_log_prob_\n",
    "def get_index(term):\n",
    "    return vectorize.vocabulary_.get(term)\n",
    "\n",
    "for i in text1.split():\n",
    "    if get_index(i) != None:\n",
    "        print('nie spam |' ,i, np.exp(likelihoods[0][get_index(i)]))\n",
    "        print('spam |', i, np.exp(likelihoods[1][get_index(i)]))"
   ]
  },
  {
   "cell_type": "code",
   "execution_count": 61,
   "metadata": {},
   "outputs": [
    {
     "name": "stdout",
     "output_type": "stream",
     "text": [
      "0.0003291639236339697\n"
     ]
    }
   ],
   "source": [
    "print((0+1)/(1519+1*1519))"
   ]
  },
  {
   "cell_type": "code",
   "execution_count": 8,
   "metadata": {},
   "outputs": [
    {
     "name": "stdout",
     "output_type": "stream",
     "text": [
      "  (0, 390)\t1\n",
      "  (0, 1079)\t1\n",
      "  (0, 1263)\t1\n",
      "[0]\n",
      "Content:  is math related to science\n",
      "--------------------------\n",
      "good\n",
      "Probability:  [[0.99682525 0.00317475]]\n"
     ]
    }
   ],
   "source": [
    "eval('is math related to science')"
   ]
  },
  {
   "cell_type": "code",
   "execution_count": 103,
   "metadata": {},
   "outputs": [
    {
     "name": "stdout",
     "output_type": "stream",
     "text": [
      "  (0, 1035)\t1\n",
      "[0]\n",
      "Content:  darmowe kartofle promocja adsense\n",
      "--------------------------\n",
      "good\n",
      "Probability:  [[0.60463606 0.39536394]]\n"
     ]
    }
   ],
   "source": [
    "eval('darmowe kartofle promocja adsense')"
   ]
  },
  {
   "cell_type": "code",
   "execution_count": 104,
   "metadata": {},
   "outputs": [
    {
     "name": "stdout",
     "output_type": "stream",
     "text": [
      "  (0, 581)\t1\n",
      "  (0, 923)\t1\n",
      "[1]\n",
      "Content:  kup po promocyjnej cenie odkurzacz gosciu\n",
      "--------------------------\n",
      "spam\n",
      "Probability:  [[0.32125424 0.67874576]]\n"
     ]
    }
   ],
   "source": [
    "eval('kup po promocyjnej cenie odkurzacz gosciu')"
   ]
  }
 ],
 "metadata": {
  "kernelspec": {
   "display_name": "Python 3",
   "language": "python",
   "name": "python3"
  },
  "language_info": {
   "codemirror_mode": {
    "name": "ipython",
    "version": 3
   },
   "file_extension": ".py",
   "mimetype": "text/x-python",
   "name": "python",
   "nbconvert_exporter": "python",
   "pygments_lexer": "ipython3",
   "version": "3.10.8"
  },
  "orig_nbformat": 4,
  "vscode": {
   "interpreter": {
    "hash": "767d51c1340bd893661ea55ea3124f6de3c7a262a8b4abca0554b478b1e2ff90"
   }
  }
 },
 "nbformat": 4,
 "nbformat_minor": 2
}
